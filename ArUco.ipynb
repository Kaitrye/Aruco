{
 "cells": [
  {
   "cell_type": "markdown",
   "id": "ab58e4fb",
   "metadata": {},
   "source": [
    "Подключаем библиотеки и считываем данные, полученные в результате эксперимента. "
   ]
  },
  {
   "cell_type": "code",
   "execution_count": 1,
   "id": "124b4e5a",
   "metadata": {},
   "outputs": [],
   "source": [
    "import numpy as np\n",
    "import pandas as pd\n",
    "import matplotlib.pyplot as plt\n",
    "%matplotlib inline"
   ]
  },
  {
   "cell_type": "code",
   "execution_count": 84,
   "id": "d42ca19a",
   "metadata": {},
   "outputs": [],
   "source": [
    "data = pd.read_csv(\"result.csv\")"
   ]
  },
  {
   "cell_type": "code",
   "execution_count": 37,
   "id": "ff3958b6",
   "metadata": {},
   "outputs": [
    {
     "data": {
      "text/html": [
       "<div>\n",
       "<style scoped>\n",
       "    .dataframe tbody tr th:only-of-type {\n",
       "        vertical-align: middle;\n",
       "    }\n",
       "\n",
       "    .dataframe tbody tr th {\n",
       "        vertical-align: top;\n",
       "    }\n",
       "\n",
       "    .dataframe thead th {\n",
       "        text-align: right;\n",
       "    }\n",
       "</style>\n",
       "<table border=\"1\" class=\"dataframe\">\n",
       "  <thead>\n",
       "    <tr style=\"text-align: right;\">\n",
       "      <th></th>\n",
       "      <th>image</th>\n",
       "      <th>distance</th>\n",
       "      <th>angle_x</th>\n",
       "      <th>angle_y</th>\n",
       "      <th>angle_z</th>\n",
       "      <th>found</th>\n",
       "      <th>ID</th>\n",
       "      <th>length</th>\n",
       "    </tr>\n",
       "  </thead>\n",
       "  <tbody>\n",
       "    <tr>\n",
       "      <th>0</th>\n",
       "      <td>1</td>\n",
       "      <td>2.33801</td>\n",
       "      <td>-14.2843</td>\n",
       "      <td>1.008160</td>\n",
       "      <td>-89.1960</td>\n",
       "      <td>1</td>\n",
       "      <td>43</td>\n",
       "      <td>0.156</td>\n",
       "    </tr>\n",
       "    <tr>\n",
       "      <th>1</th>\n",
       "      <td>2</td>\n",
       "      <td>2.29431</td>\n",
       "      <td>-61.1354</td>\n",
       "      <td>1.602070</td>\n",
       "      <td>-89.6140</td>\n",
       "      <td>1</td>\n",
       "      <td>43</td>\n",
       "      <td>0.156</td>\n",
       "    </tr>\n",
       "    <tr>\n",
       "      <th>2</th>\n",
       "      <td>3</td>\n",
       "      <td>0.00000</td>\n",
       "      <td>0.0000</td>\n",
       "      <td>0.000000</td>\n",
       "      <td>0.0000</td>\n",
       "      <td>0</td>\n",
       "      <td>0</td>\n",
       "      <td>0.156</td>\n",
       "    </tr>\n",
       "    <tr>\n",
       "      <th>3</th>\n",
       "      <td>4</td>\n",
       "      <td>2.92523</td>\n",
       "      <td>47.1487</td>\n",
       "      <td>-0.092078</td>\n",
       "      <td>-89.9108</td>\n",
       "      <td>1</td>\n",
       "      <td>43</td>\n",
       "      <td>0.156</td>\n",
       "    </tr>\n",
       "    <tr>\n",
       "      <th>4</th>\n",
       "      <td>5</td>\n",
       "      <td>3.21416</td>\n",
       "      <td>65.4330</td>\n",
       "      <td>0.203426</td>\n",
       "      <td>-89.6737</td>\n",
       "      <td>1</td>\n",
       "      <td>43</td>\n",
       "      <td>0.156</td>\n",
       "    </tr>\n",
       "  </tbody>\n",
       "</table>\n",
       "</div>"
      ],
      "text/plain": [
       "   image  distance  angle_x   angle_y  angle_z  found  ID  length\n",
       "0      1   2.33801 -14.2843  1.008160 -89.1960      1  43   0.156\n",
       "1      2   2.29431 -61.1354  1.602070 -89.6140      1  43   0.156\n",
       "2      3   0.00000   0.0000  0.000000   0.0000      0   0   0.156\n",
       "3      4   2.92523  47.1487 -0.092078 -89.9108      1  43   0.156\n",
       "4      5   3.21416  65.4330  0.203426 -89.6737      1  43   0.156"
      ]
     },
     "execution_count": 37,
     "metadata": {},
     "output_type": "execute_result"
    }
   ],
   "source": [
    "data.head()"
   ]
  },
  {
   "cell_type": "code",
   "execution_count": 41,
   "id": "76a2b7be",
   "metadata": {},
   "outputs": [
    {
     "data": {
      "text/html": [
       "<div>\n",
       "<style scoped>\n",
       "    .dataframe tbody tr th:only-of-type {\n",
       "        vertical-align: middle;\n",
       "    }\n",
       "\n",
       "    .dataframe tbody tr th {\n",
       "        vertical-align: top;\n",
       "    }\n",
       "\n",
       "    .dataframe thead th {\n",
       "        text-align: right;\n",
       "    }\n",
       "</style>\n",
       "<table border=\"1\" class=\"dataframe\">\n",
       "  <thead>\n",
       "    <tr style=\"text-align: right;\">\n",
       "      <th></th>\n",
       "      <th>image</th>\n",
       "      <th>distance</th>\n",
       "      <th>angle_x</th>\n",
       "      <th>angle_y</th>\n",
       "      <th>angle_z</th>\n",
       "      <th>found</th>\n",
       "      <th>ID</th>\n",
       "      <th>length</th>\n",
       "    </tr>\n",
       "  </thead>\n",
       "  <tbody>\n",
       "    <tr>\n",
       "      <th>count</th>\n",
       "      <td>2540.000000</td>\n",
       "      <td>2540.000000</td>\n",
       "      <td>2540.000000</td>\n",
       "      <td>2540.000000</td>\n",
       "      <td>2540.000000</td>\n",
       "      <td>2540.000000</td>\n",
       "      <td>2540.000000</td>\n",
       "      <td>2540.000000</td>\n",
       "    </tr>\n",
       "    <tr>\n",
       "      <th>mean</th>\n",
       "      <td>1270.500000</td>\n",
       "      <td>2.074933</td>\n",
       "      <td>0.041756</td>\n",
       "      <td>0.930597</td>\n",
       "      <td>-22.500585</td>\n",
       "      <td>0.749213</td>\n",
       "      <td>100.597244</td>\n",
       "      <td>0.120256</td>\n",
       "    </tr>\n",
       "    <tr>\n",
       "      <th>std</th>\n",
       "      <td>733.379165</td>\n",
       "      <td>1.997512</td>\n",
       "      <td>23.736605</td>\n",
       "      <td>15.756694</td>\n",
       "      <td>61.166543</td>\n",
       "      <td>0.433552</td>\n",
       "      <td>78.144651</td>\n",
       "      <td>0.051066</td>\n",
       "    </tr>\n",
       "    <tr>\n",
       "      <th>min</th>\n",
       "      <td>1.000000</td>\n",
       "      <td>0.000000</td>\n",
       "      <td>-83.019100</td>\n",
       "      <td>-82.085600</td>\n",
       "      <td>-89.999500</td>\n",
       "      <td>0.000000</td>\n",
       "      <td>0.000000</td>\n",
       "      <td>0.033000</td>\n",
       "    </tr>\n",
       "    <tr>\n",
       "      <th>25%</th>\n",
       "      <td>635.750000</td>\n",
       "      <td>0.000000</td>\n",
       "      <td>-4.625253</td>\n",
       "      <td>-1.567005</td>\n",
       "      <td>-88.713650</td>\n",
       "      <td>0.000000</td>\n",
       "      <td>0.000000</td>\n",
       "      <td>0.076000</td>\n",
       "    </tr>\n",
       "    <tr>\n",
       "      <th>50%</th>\n",
       "      <td>1270.500000</td>\n",
       "      <td>1.676630</td>\n",
       "      <td>0.000000</td>\n",
       "      <td>0.000000</td>\n",
       "      <td>-0.018715</td>\n",
       "      <td>1.000000</td>\n",
       "      <td>134.000000</td>\n",
       "      <td>0.156000</td>\n",
       "    </tr>\n",
       "    <tr>\n",
       "      <th>75%</th>\n",
       "      <td>1905.250000</td>\n",
       "      <td>2.995773</td>\n",
       "      <td>3.653760</td>\n",
       "      <td>3.896980</td>\n",
       "      <td>0.000000</td>\n",
       "      <td>1.000000</td>\n",
       "      <td>154.000000</td>\n",
       "      <td>0.156000</td>\n",
       "    </tr>\n",
       "    <tr>\n",
       "      <th>max</th>\n",
       "      <td>2540.000000</td>\n",
       "      <td>10.006700</td>\n",
       "      <td>89.842600</td>\n",
       "      <td>80.370400</td>\n",
       "      <td>89.999600</td>\n",
       "      <td>1.000000</td>\n",
       "      <td>234.000000</td>\n",
       "      <td>0.156000</td>\n",
       "    </tr>\n",
       "  </tbody>\n",
       "</table>\n",
       "</div>"
      ],
      "text/plain": [
       "             image     distance      angle_x      angle_y      angle_z  \\\n",
       "count  2540.000000  2540.000000  2540.000000  2540.000000  2540.000000   \n",
       "mean   1270.500000     2.074933     0.041756     0.930597   -22.500585   \n",
       "std     733.379165     1.997512    23.736605    15.756694    61.166543   \n",
       "min       1.000000     0.000000   -83.019100   -82.085600   -89.999500   \n",
       "25%     635.750000     0.000000    -4.625253    -1.567005   -88.713650   \n",
       "50%    1270.500000     1.676630     0.000000     0.000000    -0.018715   \n",
       "75%    1905.250000     2.995773     3.653760     3.896980     0.000000   \n",
       "max    2540.000000    10.006700    89.842600    80.370400    89.999600   \n",
       "\n",
       "             found           ID       length  \n",
       "count  2540.000000  2540.000000  2540.000000  \n",
       "mean      0.749213   100.597244     0.120256  \n",
       "std       0.433552    78.144651     0.051066  \n",
       "min       0.000000     0.000000     0.033000  \n",
       "25%       0.000000     0.000000     0.076000  \n",
       "50%       1.000000   134.000000     0.156000  \n",
       "75%       1.000000   154.000000     0.156000  \n",
       "max       1.000000   234.000000     0.156000  "
      ]
     },
     "execution_count": 41,
     "metadata": {},
     "output_type": "execute_result"
    }
   ],
   "source": [
    "data.describe()"
   ]
  },
  {
   "cell_type": "code",
   "execution_count": 28,
   "id": "311d0de1",
   "metadata": {},
   "outputs": [
    {
     "data": {
      "text/plain": [
       "1    1903\n",
       "0     637\n",
       "Name: found, dtype: int64"
      ]
     },
     "execution_count": 28,
     "metadata": {},
     "output_type": "execute_result"
    }
   ],
   "source": [
    "data.found.value_counts()"
   ]
  },
  {
   "cell_type": "code",
   "execution_count": 92,
   "id": "60d1a03a",
   "metadata": {},
   "outputs": [
    {
     "data": {
      "text/plain": [
       "0      637\n",
       "149    531\n",
       "232    142\n",
       "166    141\n",
       "102    126\n",
       "10     109\n",
       "65      94\n",
       "157     88\n",
       "134     82\n",
       "12      81\n",
       "154     78\n",
       "234     75\n",
       "168     74\n",
       "97      73\n",
       "123     71\n",
       "190     70\n",
       "43      60\n",
       "17       3\n",
       "22       2\n",
       "120      1\n",
       "91       1\n",
       "226      1\n",
       "Name: ID, dtype: int64"
      ]
     },
     "execution_count": 92,
     "metadata": {},
     "output_type": "execute_result"
    }
   ],
   "source": [
    "data.ID.value_counts()"
   ]
  },
  {
   "cell_type": "markdown",
   "id": "b8742760",
   "metadata": {},
   "source": [
    "Всего было обработано 2540 фотографий. В результате работы программы было распознано 1903 маркера и не распознано 637. Однако, заметим, что некоторые маркеры были ошибочно распознаны. Это можно понять, сравнив полученные ID с теми, которые были сгенерированы."
   ]
  },
  {
   "cell_type": "code",
   "execution_count": 94,
   "id": "954a5664",
   "metadata": {},
   "outputs": [
    {
     "data": {
      "text/plain": [
       "5      806\n",
       "0      637\n",
       "6      374\n",
       "4      364\n",
       "7      351\n",
       "17       3\n",
       "22       2\n",
       "120      1\n",
       "226      1\n",
       "91       1\n",
       "Name: ID, dtype: int64"
      ]
     },
     "execution_count": 94,
     "metadata": {},
     "output_type": "execute_result"
    }
   ],
   "source": [
    "ID4 = [12, 43, 134, 166]\n",
    "ID5 = [102, 149, 168, 234]\n",
    "ID6 = [97, 123, 157, 232]\n",
    "ID7 = [10, 65, 154, 190]\n",
    "\n",
    "# мы можем использовать значения 4, 5, 6, 7, т.к. они отсутствуют в полученных ID.\n",
    "data.loc[data['ID'].isin(ID4), 'ID'] = 4\n",
    "data.loc[data['ID'].isin(ID5), 'ID'] = 5\n",
    "data.loc[data['ID'].isin(ID6), 'ID'] = 6\n",
    "data.loc[data['ID'].isin(ID7), 'ID'] = 7\n",
    "\n",
    "data.ID.value_counts()"
   ]
  },
  {
   "cell_type": "markdown",
   "id": "d60b6b6d",
   "metadata": {},
   "source": [
    "Избавимся от ошибочных значений, изменив в этих строчках значения \"distance\", \"angle_x\", \"angle_y\", \"angle_z\", \"found\", \"ID\" на 0."
   ]
  },
  {
   "cell_type": "code",
   "execution_count": 96,
   "id": "b229306d",
   "metadata": {},
   "outputs": [],
   "source": [
    "data.loc[data['ID'] > 7, ['distance', 'angle_x', 'angle_y', 'angle_z', 'found', 'ID']] = 0"
   ]
  },
  {
   "cell_type": "markdown",
   "id": "8f1d62f9",
   "metadata": {},
   "source": [
    "Пока что, для столбцов \"distance\", \"angle_x\", \"angle_y\", \"angle_z\", \"ID\" в строках, где маркер не был распознан стоят 0."
   ]
  },
  {
   "cell_type": "markdown",
   "id": "3bb50dec",
   "metadata": {},
   "source": [
    "Исследуем зависимость распознавания от длины стороны маркера (\"length\"). Для этого разделим данные на изображения с распознанными маркерами и изображения без распознанных маркеров и отсечем нерассматриваемые характеристики."
   ]
  },
  {
   "cell_type": "code",
   "execution_count": 99,
   "id": "b56406c4",
   "metadata": {},
   "outputs": [],
   "source": [
    "length = data.length\n",
    "not_found = data[data.found == 0].length\n",
    "found = data[data.found == 1].length"
   ]
  },
  {
   "cell_type": "code",
   "execution_count": 100,
   "id": "6ddf2cc0",
   "metadata": {},
   "outputs": [
    {
     "data": {
      "text/plain": [
       "0.156    1644\n",
       "0.033     526\n",
       "0.076     249\n",
       "0.105     121\n",
       "Name: length, dtype: int64"
      ]
     },
     "execution_count": 100,
     "metadata": {},
     "output_type": "execute_result"
    }
   ],
   "source": [
    "length.value_counts()"
   ]
  },
  {
   "cell_type": "markdown",
   "id": "3aa6a8c1",
   "metadata": {},
   "source": [
    "Заметим, что фотографии с разным масштабом распределены неравномерно. Например, фотографий с масштабом 0.156 в 3 и более раз больше, чем остальных. Поэтому, нужно исследовать каждый масштаб отдельно и сравнить процент распознанных и нераспознанных маркеров в каждой категории."
   ]
  },
  {
   "cell_type": "code",
   "execution_count": 101,
   "id": "068abbfc",
   "metadata": {},
   "outputs": [
    {
     "data": {
      "text/plain": [
       "0.156    1363\n",
       "0.033     247\n",
       "0.076     171\n",
       "0.105     114\n",
       "Name: length, dtype: int64"
      ]
     },
     "execution_count": 101,
     "metadata": {},
     "output_type": "execute_result"
    }
   ],
   "source": [
    "found.value_counts()"
   ]
  },
  {
   "cell_type": "code",
   "execution_count": 102,
   "id": "0f733459",
   "metadata": {},
   "outputs": [
    {
     "data": {
      "text/plain": [
       "0.156    281\n",
       "0.033    279\n",
       "0.076     78\n",
       "0.105      7\n",
       "Name: length, dtype: int64"
      ]
     },
     "execution_count": 102,
     "metadata": {},
     "output_type": "execute_result"
    }
   ],
   "source": [
    "not_found.value_counts()"
   ]
  },
  {
   "cell_type": "code",
   "execution_count": 103,
   "id": "9b7e6f51",
   "metadata": {},
   "outputs": [
    {
     "name": "stdout",
     "output_type": "stream",
     "text": [
      "[82.90754257907543, 46.958174904942965, 68.67469879518072, 94.21487603305785]\n",
      "[17.092457420924575, 53.041825095057035, 31.32530120481928, 5.785123966942149]\n"
     ]
    }
   ],
   "source": [
    "all_counts = length.value_counts().tolist()\n",
    "found_counts = found.value_counts().tolist()\n",
    "not_found_counts = not_found.value_counts().tolist()\n",
    "\n",
    "found_per = [i / j * 100 for i, j in zip(found_counts, all_counts)]\n",
    "print(found_per)\n",
    "\n",
    "not_found_per = [i / j * 100 for i, j in zip(not_found_counts, all_counts)]\n",
    "print(not_found_per)"
   ]
  },
  {
   "cell_type": "markdown",
   "id": "6898e96f",
   "metadata": {},
   "source": [
    "Для наглядности изобразим на графиках"
   ]
  },
  {
   "cell_type": "code",
   "execution_count": 105,
   "id": "ba022ce3",
   "metadata": {},
   "outputs": [
    {
     "data": {
      "text/plain": [
       "array([[<AxesSubplot:title={'center':'found'}>]], dtype=object)"
      ]
     },
     "execution_count": 105,
     "metadata": {},
     "output_type": "execute_result"
    },
    {
     "data": {
      "image/png": "[encoded data removed]",
      "text/plain": [
       "<Figure size 432x288 with 1 Axes>"
      ]
     },
     "metadata": {
      "needs_background": "light"
     },
     "output_type": "display_data"
    }
   ],
   "source": [
    "len4 = data.loc[data['length'] == 0.156, ['found']] \n",
    "\n",
    "len4.hist()"
   ]
  },
  {
   "cell_type": "code",
   "execution_count": 106,
   "id": "601c09a0",
   "metadata": {},
   "outputs": [
    {
     "data": {
      "text/plain": [
       "array([[<AxesSubplot:title={'center':'found'}>]], dtype=object)"
      ]
     },
     "execution_count": 106,
     "metadata": {},
     "output_type": "execute_result"
    },
    {
     "data": {
      "image/png": "[encoded data removed]",
      "text/plain": [
       "<Figure size 432x288 with 1 Axes>"
      ]
     },
     "metadata": {
      "needs_background": "light"
     },
     "output_type": "display_data"
    }
   ],
   "source": [
    "len3 = data.loc[data['length'] == 0.105, ['found']] \n",
    "\n",
    "len3.hist()"
   ]
  },
  {
   "cell_type": "code",
   "execution_count": 107,
   "id": "a7e784f6",
   "metadata": {},
   "outputs": [
    {
     "data": {
      "text/plain": [
       "array([[<AxesSubplot:title={'center':'found'}>]], dtype=object)"
      ]
     },
     "execution_count": 107,
     "metadata": {},
     "output_type": "execute_result"
    },
    {
     "data": {
      "image/png": "[encoded data removed]",
      "text/plain": [
       "<Figure size 432x288 with 1 Axes>"
      ]
     },
     "metadata": {
      "needs_background": "light"
     },
     "output_type": "display_data"
    }
   ],
   "source": [
    "len2 = data.loc[data['length'] == 0.076, ['found']] \n",
    "\n",
    "len2.hist()"
   ]
  },
  {
   "cell_type": "code",
   "execution_count": 108,
   "id": "f54510b8",
   "metadata": {},
   "outputs": [
    {
     "data": {
      "text/plain": [
       "array([[<AxesSubplot:title={'center':'found'}>]], dtype=object)"
      ]
     },
     "execution_count": 108,
     "metadata": {},
     "output_type": "execute_result"
    },
    {
     "data": {
      "image/png": "[encoded data removed]",
      "text/plain": [
       "<Figure size 432x288 with 1 Axes>"
      ]
     },
     "metadata": {
      "needs_background": "light"
     },
     "output_type": "display_data"
    }
   ],
   "source": [
    "len4 = data.loc[data['length'] == 0.033, ['found']] \n",
    "\n",
    "len4.hist()"
   ]
  },
  {
   "cell_type": "code",
   "execution_count": 112,
   "id": "caaf536d",
   "metadata": {},
   "outputs": [
    {
     "data": {
      "text/plain": [
       "<AxesSubplot:>"
      ]
     },
     "execution_count": 112,
     "metadata": {},
     "output_type": "execute_result"
    },
    {
     "data": {
      "image/png": "[encoded data removed]",
      "text/plain": [
       "<Figure size 432x288 with 1 Axes>"
      ]
     },
     "metadata": {
      "needs_background": "light"
     },
     "output_type": "display_data"
    }
   ],
   "source": [
    "groups = data.groupby(['length', 'found']).count().\n",
    "\n"
   ]
  },
  {
   "cell_type": "markdown",
   "id": "83be1b05",
   "metadata": {},
   "source": [
    "Заметим, что большая часть маркеров больших масштабов 0.156 и 0.105 была распознана (соответственно, 83% и 94%), в отличие от маркеров меньших масштабов. При этом при масштабе 0.076 было распознано почти 70% маркеров, а вот при масштабе 0.033 большую часть маркеров не удалось обнаружить (53%)."
   ]
  },
  {
   "cell_type": "markdown",
   "id": "9b06ce7e",
   "metadata": {},
   "source": [
    "Из этого можно сделать вывод, что для распознавания в реальных условиях лучше использовать маркеры больших размеров, как минимум, начиная с масштаба 0.076, т.к. маркеры маленького размера в большинстве случаев распознаются неудачно."
   ]
  }
 ],
 "metadata": {
  "kernelspec": {
   "display_name": "Python 3",
   "language": "python",
   "name": "python3"
  },
  "language_info": {
   "codemirror_mode": {
    "name": "ipython",
    "version": 3
   },
   "file_extension": ".py",
   "mimetype": "text/x-python",
   "name": "python",
   "nbconvert_exporter": "python",
   "pygments_lexer": "ipython3",
   "version": "3.8.8"
  }
 },
 "nbformat": 4,
 "nbformat_minor": 5
}
